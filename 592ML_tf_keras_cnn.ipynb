{
  "nbformat": 4,
  "nbformat_minor": 0,
  "metadata": {
    "colab": {
      "provenance": [],
      "include_colab_link": true
    },
    "kernelspec": {
      "name": "python3",
      "display_name": "Python 3"
    },
    "language_info": {
      "name": "python"
    }
  },
  "cells": [
    {
      "cell_type": "markdown",
      "metadata": {
        "id": "view-in-github",
        "colab_type": "text"
      },
      "source": [
        "<a href=\"https://colab.research.google.com/github/devulapallia1/CNN/blob/main/592ML_tf_keras_cnn.ipynb\" target=\"_parent\"><img src=\"https://colab.research.google.com/assets/colab-badge.svg\" alt=\"Open In Colab\"/></a>"
      ]
    },
    {
      "cell_type": "code",
      "execution_count": null,
      "metadata": {
        "colab": {
          "base_uri": "https://localhost:8080/"
        },
        "id": "r0pRH3IrWVxE",
        "outputId": "3490e0c4-ab21-4ba6-844f-5665cebc8cef"
      },
      "outputs": [
        {
          "output_type": "stream",
          "name": "stdout",
          "text": [
            "TensorFlow version: 2.15.0\n"
          ]
        }
      ],
      "source": [
        "import tensorflow as tf\n",
        "print(\"TensorFlow version:\", tf.__version__)\n",
        "import numpy as np\n",
        "import matplotlib.pyplot as plt # for plots\n",
        "import seaborn as sns # for plots\n"
      ]
    },
    {
      "cell_type": "code",
      "source": [
        "# get the mnist dataset, where each data item is a handwritten image.\n",
        "(x_train, y_train), (x_test, y_test) = tf.keras.datasets.mnist.load_data()\n",
        "\n",
        "flagPrepared = False # flag used to modify dataset only once"
      ],
      "metadata": {
        "id": "COY9oQX3q6i-",
        "colab": {
          "base_uri": "https://localhost:8080/"
        },
        "outputId": "fe5cad88-5a02-4d71-e3ea-df45e2bfb1d7"
      },
      "execution_count": null,
      "outputs": [
        {
          "output_type": "stream",
          "name": "stdout",
          "text": [
            "Downloading data from https://storage.googleapis.com/tensorflow/tf-keras-datasets/mnist.npz\n",
            "11490434/11490434 [==============================] - 0s 0us/step\n"
          ]
        }
      ]
    },
    {
      "cell_type": "code",
      "source": [
        "# understand the dataset:\n",
        "print(x_train.shape)  # (60000, 28, 28): 60K training images, each image is a 28 by 28 matrix\n",
        "print(x_test.shape)   # (10000, 28, 28)\n",
        "plt.imshow(x_train[15])  # show the first image in a plot, which is a 5.\n",
        "print(\"label is \", y_train[15]) # its label\n",
        "print(x_train[0])  # let's see the 28*28 matrix. Each number is in [0, 255]\n",
        "# sns.countplot(y_train) # plot a figure to visualize y's (labels)"
      ],
      "metadata": {
        "id": "A_l2NJh-3b4F",
        "colab": {
          "base_uri": "https://localhost:8080/",
          "height": 1000
        },
        "outputId": "bff15d06-e255-479b-8c1f-8bf2fe2bb03e"
      },
      "execution_count": null,
      "outputs": [
        {
          "output_type": "stream",
          "name": "stdout",
          "text": [
            "(60000, 28, 28)\n",
            "(10000, 28, 28)\n",
            "label is  7\n",
            "[[  0   0   0   0   0   0   0   0   0   0   0   0   0   0   0   0   0   0\n",
            "    0   0   0   0   0   0   0   0   0   0]\n",
            " [  0   0   0   0   0   0   0   0   0   0   0   0   0   0   0   0   0   0\n",
            "    0   0   0   0   0   0   0   0   0   0]\n",
            " [  0   0   0   0   0   0   0   0   0   0   0   0   0   0   0   0   0   0\n",
            "    0   0   0   0   0   0   0   0   0   0]\n",
            " [  0   0   0   0   0   0   0   0   0   0   0   0   0   0   0   0   0   0\n",
            "    0   0   0   0   0   0   0   0   0   0]\n",
            " [  0   0   0   0   0   0   0   0   0   0   0   0   0   0   0   0   0   0\n",
            "    0   0   0   0   0   0   0   0   0   0]\n",
            " [  0   0   0   0   0   0   0   0   0   0   0   0   3  18  18  18 126 136\n",
            "  175  26 166 255 247 127   0   0   0   0]\n",
            " [  0   0   0   0   0   0   0   0  30  36  94 154 170 253 253 253 253 253\n",
            "  225 172 253 242 195  64   0   0   0   0]\n",
            " [  0   0   0   0   0   0   0  49 238 253 253 253 253 253 253 253 253 251\n",
            "   93  82  82  56  39   0   0   0   0   0]\n",
            " [  0   0   0   0   0   0   0  18 219 253 253 253 253 253 198 182 247 241\n",
            "    0   0   0   0   0   0   0   0   0   0]\n",
            " [  0   0   0   0   0   0   0   0  80 156 107 253 253 205  11   0  43 154\n",
            "    0   0   0   0   0   0   0   0   0   0]\n",
            " [  0   0   0   0   0   0   0   0   0  14   1 154 253  90   0   0   0   0\n",
            "    0   0   0   0   0   0   0   0   0   0]\n",
            " [  0   0   0   0   0   0   0   0   0   0   0 139 253 190   2   0   0   0\n",
            "    0   0   0   0   0   0   0   0   0   0]\n",
            " [  0   0   0   0   0   0   0   0   0   0   0  11 190 253  70   0   0   0\n",
            "    0   0   0   0   0   0   0   0   0   0]\n",
            " [  0   0   0   0   0   0   0   0   0   0   0   0  35 241 225 160 108   1\n",
            "    0   0   0   0   0   0   0   0   0   0]\n",
            " [  0   0   0   0   0   0   0   0   0   0   0   0   0  81 240 253 253 119\n",
            "   25   0   0   0   0   0   0   0   0   0]\n",
            " [  0   0   0   0   0   0   0   0   0   0   0   0   0   0  45 186 253 253\n",
            "  150  27   0   0   0   0   0   0   0   0]\n",
            " [  0   0   0   0   0   0   0   0   0   0   0   0   0   0   0  16  93 252\n",
            "  253 187   0   0   0   0   0   0   0   0]\n",
            " [  0   0   0   0   0   0   0   0   0   0   0   0   0   0   0   0   0 249\n",
            "  253 249  64   0   0   0   0   0   0   0]\n",
            " [  0   0   0   0   0   0   0   0   0   0   0   0   0   0  46 130 183 253\n",
            "  253 207   2   0   0   0   0   0   0   0]\n",
            " [  0   0   0   0   0   0   0   0   0   0   0   0  39 148 229 253 253 253\n",
            "  250 182   0   0   0   0   0   0   0   0]\n",
            " [  0   0   0   0   0   0   0   0   0   0  24 114 221 253 253 253 253 201\n",
            "   78   0   0   0   0   0   0   0   0   0]\n",
            " [  0   0   0   0   0   0   0   0  23  66 213 253 253 253 253 198  81   2\n",
            "    0   0   0   0   0   0   0   0   0   0]\n",
            " [  0   0   0   0   0   0  18 171 219 253 253 253 253 195  80   9   0   0\n",
            "    0   0   0   0   0   0   0   0   0   0]\n",
            " [  0   0   0   0  55 172 226 253 253 253 253 244 133  11   0   0   0   0\n",
            "    0   0   0   0   0   0   0   0   0   0]\n",
            " [  0   0   0   0 136 253 253 253 212 135 132  16   0   0   0   0   0   0\n",
            "    0   0   0   0   0   0   0   0   0   0]\n",
            " [  0   0   0   0   0   0   0   0   0   0   0   0   0   0   0   0   0   0\n",
            "    0   0   0   0   0   0   0   0   0   0]\n",
            " [  0   0   0   0   0   0   0   0   0   0   0   0   0   0   0   0   0   0\n",
            "    0   0   0   0   0   0   0   0   0   0]\n",
            " [  0   0   0   0   0   0   0   0   0   0   0   0   0   0   0   0   0   0\n",
            "    0   0   0   0   0   0   0   0   0   0]]\n"
          ]
        },
        {
          "output_type": "display_data",
          "data": {
            "text/plain": [
              "<Figure size 640x480 with 1 Axes>"
            ],
            "image/png": "[encoded data removed]"
          },
          "metadata": {}
        }
      ]
    },
    {
      "cell_type": "code",
      "source": [
        "# Prepare the training/testing dataset for our keras CNN model:\n",
        "\n",
        "if flagPrepared == False:\n",
        "  x_train = x_train / 255.0  # values will be in [0, 1]\n",
        "  x_test = x_test / 255.0\n",
        "  x_train = np.expand_dims(x_train, axis=-1) # expand dimensions so each image has shape (28, 28, 1). More about image shape at www.tensorflow.org/tutorials/images/classification\n",
        "  x_test = np.expand_dims(x_test, axis=-1)\n",
        "  flagPrepared = True\n",
        "\n",
        "print(x_train.shape)\n",
        "#print(x_train[0])"
      ],
      "metadata": {
        "colab": {
          "base_uri": "https://localhost:8080/"
        },
        "id": "3JstLbMs744U",
        "outputId": "590fee88-76d5-448b-a164-1fb56004905d"
      },
      "execution_count": null,
      "outputs": [
        {
          "output_type": "stream",
          "name": "stdout",
          "text": [
            "(60000, 28, 28, 1)\n"
          ]
        }
      ]
    },
    {
      "cell_type": "code",
      "source": [
        "# define a CNN model:\n",
        "\n",
        "# Step 1: define a keras sequential model with Conv2D, MaxPool, Flatten, Dense:\n",
        "\n",
        "# using keras functional API,  start by creating an input node:\n",
        "inputs = tf.keras.layers.Input(shape=(28, 28, 1))\n",
        "c = tf.keras.layers.Conv2D(32, kernel_size=(3, 3), padding='valid', activation='relu')(inputs) # calling a Conv2D layer on inputs\n",
        "m = tf.keras.layers.MaxPool2D((2, 2), (2, 2))(c)\n",
        "f = tf.keras.layers.Flatten()(m)  # convert matrix into a 1d array\n",
        "outputs = tf.keras.layers.Dense(10, activation='softmax')(f)\n",
        "\n",
        "model = tf.keras.models.Model(inputs, outputs)\n",
        "\n",
        "# step 2: Compile the model: compile sets the training parameters\n",
        "model.compile(optimizer='adam',\n",
        "              loss=tf.keras.losses.SparseCategoricalCrossentropy(from_logits=True),\n",
        "              metrics=['accuracy'])\n",
        "\n",
        "# step 3: training:\n",
        "model.fit(x_train, y_train, epochs=2) # 1 epoch --> accuracy 93%, 10 epochs --> 99.4%!\n",
        "\n",
        "model.summary()\n"
      ],
      "metadata": {
        "id": "VT487H7mvU25"
      },
      "execution_count": null,
      "outputs": []
    },
    {
      "cell_type": "code",
      "source": [
        "# after training\n",
        "\n",
        "print(x_test.shape)\n",
        "\n",
        "predicted = model(x_test[0:1, :]) # the first testing data, at index 0. The input to model() should be a batch, so we use slice on rows 0:1 to get row 0.\n",
        "print(predicted) # the output is a vector of 10 values\n",
        "print(tf.math.argmax(predicted[0]).numpy())  # the index of the maximum value is the predicted label for this data item\n",
        "print(\"true y:\", y_test[0])\n",
        "\n",
        "predicted = model(x_test[5:6, :]) # the testing data item at index 5\n",
        "print(predicted)\n",
        "print(tf.math.argmax(predicted[0]).numpy())\n",
        "print(\"true y:\", y_test[5])\n"
      ],
      "metadata": {
        "id": "s8U1lxvS5pfD"
      },
      "execution_count": null,
      "outputs": []
    },
    {
      "cell_type": "code",
      "source": [
        "# another way to use keras's functional API:\n",
        "\n",
        "# using keras functional API\n",
        "cnnModel = tf.keras.Sequential()\n",
        "cnnModel.add(tf.keras.layers.Conv2D(32, kernel_size=(3, 3), padding='valid', activation='relu', input_shape=(28, 28, 1)))\n",
        "cnnModel.add(tf.keras.layers.MaxPool2D((2, 2), (2, 2)))\n",
        "cnnModel.add(tf.keras.layers.Flatten())  # convert matrix into a 1d array\n",
        "cnnModel.add(tf.keras.layers.Dense(10, activation='softmax'))\n",
        "\n",
        "# step 2: Compile the model: compile sets the training parameters\n",
        "cnnModel.compile(optimizer='adam',\n",
        "              loss=tf.keras.losses.SparseCategoricalCrossentropy(from_logits=True),  #'sparse_categorical_crossentropy',\n",
        "              metrics=['accuracy'])\n",
        "\n",
        "# step 3: training:\n",
        "cnnModel.fit(x_train, y_train, epochs=2) # 1 epoch --> accuracy 93%, 10 epochs --> 99.4%!\n",
        "\n",
        "cnnModel.summary()"
      ],
      "metadata": {
        "id": "NfLlqg2y8vIK"
      },
      "execution_count": null,
      "outputs": []
    },
    {
      "cell_type": "code",
      "source": [
        "# after training:\n",
        "\n",
        "predicted = cnnModel(x_test[0:1, :]) # the first testing data, at index 0. The input to model() should be a batch, so we use slice on rows 0:1 to get row 0.\n",
        "print(predicted) # the output is a vector of 10 values\n",
        "print(tf.math.argmax(predicted[0]).numpy())  # the index of the maximum value is the predicted label for this data item\n",
        "print(\"true y:\", y_test[0])\n",
        "\n",
        "predicted = cnnModel(x_test[5:6, :]) # the testing data item at index 5\n",
        "print(predicted)\n",
        "print(tf.math.argmax(predicted[0]).numpy())\n",
        "print(\"true y:\", y_test[5])"
      ],
      "metadata": {
        "colab": {
          "base_uri": "https://localhost:8080/"
        },
        "id": "eFnr032B-rSk",
        "outputId": "b0e62842-56a4-4bea-d645-066710fe273f"
      },
      "execution_count": null,
      "outputs": [
        {
          "output_type": "stream",
          "name": "stdout",
          "text": [
            "tf.Tensor(\n",
            "[[3.2692049e-10 3.3090440e-12 1.9587827e-05 2.1604101e-05 1.2878797e-11\n",
            "  1.5838419e-10 1.0017139e-13 9.9995863e-01 1.3425807e-07 5.5752462e-08]], shape=(1, 10), dtype=float32)\n",
            "7\n",
            "true y: 7\n",
            "tf.Tensor(\n",
            "[[1.4246100e-05 9.9752325e-01 6.1743646e-07 3.2240092e-07 6.3600586e-05\n",
            "  1.9178294e-06 9.9814585e-08 7.6883543e-06 2.3842831e-03 3.9361144e-06]], shape=(1, 10), dtype=float32)\n",
            "1\n",
            "true y: 1\n"
          ]
        }
      ]
    }
  ]
}